{
 "cells": [
  {
   "cell_type": "code",
   "execution_count": 52,
   "metadata": {},
   "outputs": [],
   "source": [
    "import numpy as np\n",
    "import math"
   ]
  },
  {
   "cell_type": "markdown",
   "metadata": {},
   "source": [
    "## 1. Перемножение матриц."
   ]
  },
  {
   "cell_type": "markdown",
   "metadata": {},
   "source": [
    "#### а. "
   ]
  },
  {
   "cell_type": "markdown",
   "metadata": {},
   "source": [
    "$$A=\\begin{bmatrix}\n",
    "7&6&5\\\\\n",
    "-1&-2&-5\\\\\n",
    "-7&0&-2\n",
    "\\end{bmatrix}\n",
    "B=\\begin{bmatrix}\n",
    "6&1&-4\\\\\n",
    "6&8&8\\\\\n",
    "-10&8&6\n",
    "\\end{bmatrix}$$"
   ]
  },
  {
   "cell_type": "markdown",
   "metadata": {},
   "source": [
    "$$AB=\\begin{bmatrix}\n",
    "42+36-50&7+48+40&-28+48+30\\\\\n",
    "-6-12+50&-1-16-40&4-16-30\\\\\n",
    "-42+20&-7-16&28-12\n",
    "\\end{bmatrix}$$"
   ]
  },
  {
   "cell_type": "markdown",
   "metadata": {},
   "source": [
    "$$AB=\\begin{bmatrix}\n",
    "28&95&50\\\\\n",
    "32&-57&-42\\\\\n",
    "-22&-23&16\n",
    "\\end{bmatrix}$$"
   ]
  },
  {
   "cell_type": "markdown",
   "metadata": {},
   "source": [
    "#### b. "
   ]
  },
  {
   "cell_type": "markdown",
   "metadata": {},
   "source": [
    "$$A=\\begin{bmatrix}\n",
    "0&-4&-1\\\\\n",
    "-2&2&7\\\\\n",
    "4&6&9\n",
    "\\end{bmatrix}\n",
    "B=\\begin{bmatrix}\n",
    "2\\\\\n",
    "9\\\\\n",
    "0\n",
    "\\end{bmatrix}$$"
   ]
  },
  {
   "cell_type": "markdown",
   "metadata": {},
   "source": [
    "$$A=\\begin{bmatrix}\n",
    "-36\\\\\n",
    "-4+18\\\\\n",
    "8+54\n",
    "\\end{bmatrix}\n",
    "$$"
   ]
  },
  {
   "cell_type": "markdown",
   "metadata": {},
   "source": [
    "$$A=\\begin{bmatrix}\n",
    "-36\\\\\n",
    "14\\\\\n",
    "62\n",
    "\\end{bmatrix}\n",
    "$$"
   ]
  },
  {
   "cell_type": "markdown",
   "metadata": {},
   "source": [
    "## 2. Найти ранг матриц."
   ]
  },
  {
   "cell_type": "markdown",
   "metadata": {},
   "source": [
    "#### а. "
   ]
  },
  {
   "cell_type": "markdown",
   "metadata": {},
   "source": [
    "$$\\begin{bmatrix}\n",
    "4&2&3\\\\\n",
    "5&2&1\\\\\n",
    "9&4&4\n",
    "\\end{bmatrix}$$"
   ]
  },
  {
   "cell_type": "markdown",
   "metadata": {},
   "source": [
    "Вычисляю определитель для полной матрицы\n",
    "$$4*2*4+2*9+3*5*4-9*2*3-4*4-4*5*2$$"
   ]
  },
  {
   "cell_type": "markdown",
   "metadata": {},
   "source": [
    "$$32+18+60-54-16-40 = 0$$"
   ]
  },
  {
   "cell_type": "markdown",
   "metadata": {},
   "source": [
    "Ранг не может быть равен 3"
   ]
  },
  {
   "cell_type": "markdown",
   "metadata": {},
   "source": [
    "$$det(\\begin{bmatrix}\n",
    "4&2\\\\\n",
    "5&2\\end{bmatrix}) = 8-10= -2$$ "
   ]
  },
  {
   "cell_type": "markdown",
   "metadata": {},
   "source": [
    "Ранг матрицы = 2"
   ]
  },
  {
   "cell_type": "markdown",
   "metadata": {},
   "source": [
    "#### b. "
   ]
  },
  {
   "cell_type": "markdown",
   "metadata": {},
   "source": [
    "$$\\begin{bmatrix}\n",
    "3&2&1&5\\\\\n",
    "6&4&3&7\\\\\n",
    "9&6&5&9\\\\\n",
    "3&2&0&8\n",
    "\\end{bmatrix}$$"
   ]
  },
  {
   "cell_type": "markdown",
   "metadata": {},
   "source": [
    "Делаю чтобы в первой колонке были нули для 2-4 строки\n",
    "$$R_2=R_2-2*R_1$$\n",
    "$$R_3=R_3-3*R_1$$\n",
    "$$R_4= R_4 - R_1$$"
   ]
  },
  {
   "cell_type": "markdown",
   "metadata": {},
   "source": [
    "$$\\begin{bmatrix}\n",
    "3&2&1&5\\\\\n",
    "0&0&1&-3\\\\\n",
    "0&0&2&-6\\\\\n",
    "0&0&-2&3\n",
    "\\end{bmatrix}$$"
   ]
  },
  {
   "cell_type": "markdown",
   "metadata": {},
   "source": [
    "$$R_4=R_4-R_3$$\n",
    "$$R_4=-\\frac{1}{3}*R_4$$"
   ]
  },
  {
   "cell_type": "markdown",
   "metadata": {},
   "source": [
    "$$\\begin{bmatrix}\n",
    "3&2&1&5\\\\\n",
    "0&0&1&-3\\\\\n",
    "0&0&2&-6\\\\\n",
    "0&0&0&1\n",
    "\\end{bmatrix}$$"
   ]
  },
  {
   "cell_type": "markdown",
   "metadata": {},
   "source": [
    "$$R_3=R_3+6*R_4$$\n",
    "$$R_3=\\frac{1}{2}R_3$$\n",
    "$$R_2=R_2+3*R_4$$\n",
    "$$R_1=R_1-5*R_4$$\n",
    "$$R_2=R_2-R_3$$\n",
    "$$R_1=R_1-R_3$$\n",
    "$$R_1=\\frac{1}{3}*R_1$$"
   ]
  },
  {
   "cell_type": "markdown",
   "metadata": {},
   "source": [
    "$$\\begin{bmatrix}\n",
    "1&\\frac{2}{3}&0&0\\\\\n",
    "0&0&0&0\\\\\n",
    "0&0&1&0\\\\\n",
    "0&0&0&1\n",
    "\\end{bmatrix}$$"
   ]
  },
  {
   "cell_type": "markdown",
   "metadata": {},
   "source": [
    "Ранг матрицы равен количество ненулевых строк, т.е.3"
   ]
  },
  {
   "cell_type": "markdown",
   "metadata": {},
   "source": [
    "#### с. "
   ]
  },
  {
   "cell_type": "markdown",
   "metadata": {},
   "source": [
    "$$\\begin{bmatrix}\n",
    "1&2&1&1\\\\\n",
    "0&1&1&1\\\\\n",
    "1&3&2&2\n",
    "\\end{bmatrix}$$"
   ]
  },
  {
   "cell_type": "markdown",
   "metadata": {},
   "source": [
    "$$R_3=R_3-R_1$$\n",
    "$$R_3=R_3-R_2$$"
   ]
  },
  {
   "cell_type": "markdown",
   "metadata": {},
   "source": [
    "$$\\begin{bmatrix}\n",
    "1&2&1&1\\\\\n",
    "0&1&1&1\\\\\n",
    "0&0&0&0\n",
    "\\end{bmatrix}$$"
   ]
  },
  {
   "cell_type": "markdown",
   "metadata": {},
   "source": [
    "Ранг матрицы равен количество ненулевых строк, т.е.2"
   ]
  },
  {
   "cell_type": "markdown",
   "metadata": {},
   "source": [
    "## 3. Найти значение определителя."
   ]
  },
  {
   "cell_type": "markdown",
   "metadata": {},
   "source": [
    "#### а. "
   ]
  },
  {
   "cell_type": "markdown",
   "metadata": {},
   "source": [
    "$$det(\\begin{bmatrix}\n",
    "-3&7&4\\\\\n",
    "2&-1&2\\\\\n",
    "3&7&-3\n",
    "\\end{bmatrix})$$"
   ]
  },
  {
   "cell_type": "markdown",
   "metadata": {},
   "source": [
    "$$(-3*-1*-3)+(7*2*3)+(4*2*7)-(3*-1*4)-(7*2*-3)-(-3*2*7)$$"
   ]
  },
  {
   "cell_type": "markdown",
   "metadata": {},
   "source": [
    "$$-9+42+56+12+42+42=185$$"
   ]
  },
  {
   "cell_type": "markdown",
   "metadata": {},
   "source": [
    "#### b. "
   ]
  },
  {
   "cell_type": "markdown",
   "metadata": {},
   "source": [
    "$$det(\\begin{bmatrix}\n",
    "-1&0&2\\\\\n",
    "-10&-7&4\\\\\n",
    "-3&-3&2\n",
    "\\end{bmatrix})$$"
   ]
  },
  {
   "cell_type": "markdown",
   "metadata": {},
   "source": [
    "$$(-1*-7*2)+(0)+(2*-10*-3)-(-3*-7*2)-(-3*4*-1)-(0)$$"
   ]
  },
  {
   "cell_type": "markdown",
   "metadata": {},
   "source": [
    "$$14+60-42-12=20$$"
   ]
  },
  {
   "cell_type": "markdown",
   "metadata": {},
   "source": [
    "#### c. "
   ]
  },
  {
   "cell_type": "markdown",
   "metadata": {},
   "source": [
    "$$det(\\begin{bmatrix}\n",
    "4&-2&1\\\\\n",
    "-5&0&-1\\\\\n",
    "-7&2&7\n",
    "\\end{bmatrix})$$"
   ]
  },
  {
   "cell_type": "markdown",
   "metadata": {},
   "source": [
    "$$R_3=R_3+R_1$$"
   ]
  },
  {
   "cell_type": "markdown",
   "metadata": {},
   "source": [
    "$$det(\\begin{bmatrix}\n",
    "4&-2&1\\\\\n",
    "-5&0&-1\\\\\n",
    "-3&0&8\n",
    "\\end{bmatrix})$$"
   ]
  },
  {
   "cell_type": "markdown",
   "metadata": {},
   "source": [
    "$$(0)+(-2*-1*-3)+(0)-(0)-(0)-(8*-5*-2)$$"
   ]
  },
  {
   "cell_type": "markdown",
   "metadata": {},
   "source": [
    "$$-6-80=-86$$"
   ]
  },
  {
   "cell_type": "markdown",
   "metadata": {},
   "source": [
    "#### d. "
   ]
  },
  {
   "cell_type": "markdown",
   "metadata": {},
   "source": [
    "$$det(\\begin{bmatrix}\n",
    "7&-4&-10&3&1\\\\\n",
    "7&-9&2&-6&-2\\\\\n",
    "-3&-8&3&-7&-7\\\\\n",
    "7&8&-4&2&-8\\\\\n",
    "0&5&-12&9&3\n",
    "\\end{bmatrix})$$"
   ]
  },
  {
   "cell_type": "markdown",
   "metadata": {},
   "source": [
    "$$R_2=R_2-R_1$$\n",
    "$$R_4=R_4-R_1$$\n",
    "$$R_4=-R_4$$"
   ]
  },
  {
   "cell_type": "markdown",
   "metadata": {},
   "source": [
    "$$det(\\begin{bmatrix}\n",
    "7&-4&-10&3&1\\\\\n",
    "0&-5&12&-9&-3\\\\\n",
    "-3&-8&3&-7&-7\\\\\n",
    "0&12&6&-1&-9\\\\\n",
    "0&-5&12&-9&-3\n",
    "\\end{bmatrix})$$"
   ]
  },
  {
   "cell_type": "markdown",
   "metadata": {},
   "source": [
    "$$R_2=R_5$$"
   ]
  },
  {
   "cell_type": "markdown",
   "metadata": {},
   "source": [
    "Следовательно определитель 5х5 равен 0"
   ]
  },
  {
   "cell_type": "markdown",
   "metadata": {},
   "source": [
    "#### e. "
   ]
  },
  {
   "cell_type": "markdown",
   "metadata": {},
   "source": [
    "$$det(\\begin{bmatrix}\n",
    "-1&-5&2&2\\\\\n",
    "-5&0&-3&6\\\\\n",
    "-5&9&-5&8\\\\\n",
    "-8&-6&-5&8\n",
    "\\end{bmatrix})$$"
   ]
  },
  {
   "cell_type": "markdown",
   "metadata": {},
   "source": [
    "$$R_3=R_3-R_2$$"
   ]
  },
  {
   "cell_type": "markdown",
   "metadata": {},
   "source": [
    "$$det(\\begin{bmatrix}\n",
    "-1&-5&2&2\\\\\n",
    "-5&0&-3&6\\\\\n",
    "0&9&-2&2\\\\\n",
    "-8&-6&-5&8\n",
    "\\end{bmatrix})$$"
   ]
  },
  {
   "cell_type": "markdown",
   "metadata": {},
   "source": [
    "$$R_1=R_1+R_3$$"
   ]
  },
  {
   "cell_type": "markdown",
   "metadata": {},
   "source": [
    "$$det(\\begin{bmatrix}\n",
    "-1&4&0&4\\\\\n",
    "-5&0&-3&6\\\\\n",
    "0&9&-2&2\\\\\n",
    "-8&-6&-5&8\n",
    "\\end{bmatrix})$$"
   ]
  },
  {
   "cell_type": "markdown",
   "metadata": {},
   "source": [
    "$$(-1)*(-1)^2*det(\\begin{bmatrix}\n",
    "0&-3&6\\\\\n",
    "9&-2&2\\\\\n",
    "-6&-5&8\n",
    "\\end{bmatrix})+ 4 * (-1)^3*det(\\begin{bmatrix}\n",
    "-5&-3&6\\\\\n",
    "0&-2&2\\\\\n",
    "-8&-5&8\n",
    "\\end{bmatrix})+4*(-1)^5*det(\\begin{bmatrix}\n",
    "-5&0&-3\\\\\n",
    "0&9&-2\\\\\n",
    "-8&-6&-5\n",
    "\\end{bmatrix})$$"
   ]
  },
  {
   "cell_type": "markdown",
   "metadata": {},
   "source": [
    "$$det(\\begin{bmatrix}\n",
    "0&-3&6\\\\\n",
    "9&-2&2\\\\\n",
    "-6&-5&8\n",
    "\\end{bmatrix}) = (-3*2*-6) + (6*9*-5) - (-6*-2*6)-(8*9*-3)=36-270-72+216=-90$$"
   ]
  },
  {
   "cell_type": "markdown",
   "metadata": {},
   "source": [
    "$$det(\\begin{bmatrix}\n",
    "-5&-3&6\\\\\n",
    "0&-2&2\\\\\n",
    "-8&-5&8\n",
    "\\end{bmatrix})=(-5*-2*8)+(-3*2*-8)-(-8*-2*6)-(-5*2*-5)=80+48-96-50=-18$$"
   ]
  },
  {
   "cell_type": "markdown",
   "metadata": {},
   "source": [
    "$$det(\\begin{bmatrix}\n",
    "-5&0&-3\\\\\n",
    "0&9&-2\\\\\n",
    "-8&-6&-5\n",
    "\\end{bmatrix})=(-5*9*-5)-(-8*9*-3)-(-6*-2*-5)=225-216+60=69$$"
   ]
  },
  {
   "cell_type": "markdown",
   "metadata": {},
   "source": [
    "$$-1*(-90)-4*(-18)-4*69=-114$$"
   ]
  },
  {
   "cell_type": "markdown",
   "metadata": {},
   "source": [
    "## 3. Найти собственные значения и собственные вектора."
   ]
  },
  {
   "cell_type": "markdown",
   "metadata": {},
   "source": [
    "#### а. "
   ]
  },
  {
   "cell_type": "markdown",
   "metadata": {},
   "source": [
    "$$\\begin{bmatrix}\n",
    "2&0&1\\\\\n",
    "1&1&1\\\\1&0&2\n",
    "\\end{bmatrix} - \\lambda \\begin{bmatrix}\n",
    "1&0&0\\\\\n",
    "0&1&0\\\\0&0&1\n",
    "\\end{bmatrix} = \\begin{bmatrix}\n",
    "2-\\lambda&0&1\\\\\n",
    "1&1 - \\lambda&1\\\\1&0&2 - \\lambda\n",
    "\\end{bmatrix}$$"
   ]
  },
  {
   "cell_type": "markdown",
   "metadata": {},
   "source": [
    "$$((2-\\lambda)*(1-\\lambda)*(2-\\lambda))-(1-\\lambda)$$"
   ]
  },
  {
   "cell_type": "markdown",
   "metadata": {},
   "source": [
    "$$((2-\\lambda-2*\\lambda+\\lambda^2)(2-\\lambda))-1+\\lambda$$"
   ]
  },
  {
   "cell_type": "markdown",
   "metadata": {},
   "source": [
    "$$((\\lambda^2-3\\lambda+2)(2-\\lambda))-1+\\lambda$$"
   ]
  },
  {
   "cell_type": "markdown",
   "metadata": {},
   "source": [
    "$$2\\lambda^2-6\\lambda+4-\\lambda^3+3\\lambda^2-2\\lambda-1+\\lambda$$"
   ]
  },
  {
   "cell_type": "markdown",
   "metadata": {},
   "source": [
    "$$-\\lambda^3+5\\lambda^2-7\\lambda+3$$"
   ]
  },
  {
   "cell_type": "markdown",
   "metadata": {},
   "source": [
    "$$\\lambda^3-5\\lambda^2+7\\lambda-3$$"
   ]
  },
  {
   "cell_type": "markdown",
   "metadata": {},
   "source": [
    "3 делится на 3 и на 1\n",
    "$$\\lambda_1=1$$"
   ]
  },
  {
   "cell_type": "markdown",
   "metadata": {},
   "source": [
    "|1|-5|7|-3|\n",
    "| - |:-:|:-:|:-:|\n",
    "|1||||\n"
   ]
  },
  {
   "cell_type": "markdown",
   "metadata": {},
   "source": [
    "|1|-5|7|-3|\n",
    "| - |:-:|:-:|:-:|\n",
    "|1|-4|3|0|\n"
   ]
  },
  {
   "cell_type": "markdown",
   "metadata": {},
   "source": [
    "Выполнил расчет квадратного уравнения по схеме Горнера"
   ]
  },
  {
   "cell_type": "markdown",
   "metadata": {},
   "source": [
    "$$\\lambda^2-4\\lambda+3=0$$"
   ]
  },
  {
   "cell_type": "markdown",
   "metadata": {},
   "source": [
    "$$\\lambda_2=\\frac{-(-4)+\\sqrt{(-4)^2-4*3}}{2}$$"
   ]
  },
  {
   "cell_type": "markdown",
   "metadata": {},
   "source": [
    "$$\\lambda_2=\\frac{4+2}{2}=3$$"
   ]
  },
  {
   "cell_type": "markdown",
   "metadata": {},
   "source": [
    "$$\\lambda_3=\\frac{4-2}{2}=1$$"
   ]
  },
  {
   "cell_type": "markdown",
   "metadata": {},
   "source": [
    "$$\\begin{bmatrix}\n",
    "2&0&1\\\\\n",
    "1&1&1\\\\1&0&2\n",
    "\\end{bmatrix} - 1 \\begin{bmatrix}\n",
    "1&0&0\\\\\n",
    "0&1&0\\\\0&0&1\n",
    "\\end{bmatrix} = \\begin{bmatrix}\n",
    "x\\\\y\\\\z\\end{bmatrix}$$"
   ]
  },
  {
   "cell_type": "markdown",
   "metadata": {},
   "source": [
    "$$\\begin{bmatrix}\n",
    "1&0&1\\\\\n",
    "1&0&1\\\\1&0&1\n",
    "\\end{bmatrix}$$"
   ]
  },
  {
   "cell_type": "markdown",
   "metadata": {},
   "source": [
    "$$R_2=R_2-R_1$$\n",
    "$$R_3=R_3-R_1$$"
   ]
  },
  {
   "cell_type": "markdown",
   "metadata": {},
   "source": [
    "$$\\begin{bmatrix}\n",
    "1&0&1\\\\\n",
    "0&0&0\\\\\n",
    "0&0&0\n",
    "\\end{bmatrix}$$"
   ]
  },
  {
   "cell_type": "markdown",
   "metadata": {},
   "source": [
    "$$x+z=0$$"
   ]
  },
  {
   "cell_type": "markdown",
   "metadata": {},
   "source": [
    "$$\\begin{bmatrix}\n",
    "-z\\\\\n",
    "0\\\\\n",
    "z\n",
    "\\end{bmatrix}$$"
   ]
  },
  {
   "cell_type": "markdown",
   "metadata": {},
   "source": [
    "$$\\begin{bmatrix}\n",
    "-1\\\\\n",
    "0\\\\\n",
    "1\n",
    "\\end{bmatrix}$$"
   ]
  },
  {
   "cell_type": "markdown",
   "metadata": {},
   "source": [
    "$$\\begin{bmatrix}\n",
    "2&0&1\\\\\n",
    "1&1&1\\\\1&0&2\n",
    "\\end{bmatrix} - 3 \\begin{bmatrix}\n",
    "1&0&0\\\\\n",
    "0&1&0\\\\0&0&1\n",
    "\\end{bmatrix} = \\begin{bmatrix}\n",
    "x\\\\y\\\\z\\end{bmatrix}$$"
   ]
  },
  {
   "cell_type": "markdown",
   "metadata": {},
   "source": [
    "$$\\begin{bmatrix}\n",
    "-1&0&1\\\\\n",
    "1&-2&1\\\\1&0&-1\n",
    "\\end{bmatrix}$$"
   ]
  },
  {
   "cell_type": "markdown",
   "metadata": {},
   "source": [
    "$$R_3=R_3+R_1$$\n",
    "$$R_2=R_2+R_1$$\n",
    "$$R_2=\\frac{R_2}{-2}$$\n",
    "$$R_1=-R_1$$"
   ]
  },
  {
   "cell_type": "markdown",
   "metadata": {},
   "source": [
    "$$\\begin{bmatrix}\n",
    "1&0&-1\\\\\n",
    "0&1&-1\\\\0&0&0\n",
    "\\end{bmatrix}$$"
   ]
  },
  {
   "cell_type": "markdown",
   "metadata": {},
   "source": [
    "$$x-z=0$$\n",
    "$$y-z=0$$\n",
    "$$x=z$$\n",
    "$$y=z$$"
   ]
  },
  {
   "cell_type": "markdown",
   "metadata": {},
   "source": [
    "$$\\begin{bmatrix}\n",
    "1\\\\\n",
    "1\\\\\n",
    "1\n",
    "\\end{bmatrix}$$"
   ]
  },
  {
   "cell_type": "markdown",
   "metadata": {},
   "source": [
    "#### b. "
   ]
  },
  {
   "cell_type": "markdown",
   "metadata": {},
   "source": [
    "$$\\begin{bmatrix}\n",
    "1&1&3\\\\\n",
    "1&5&1\\\\3&1&1\n",
    "\\end{bmatrix} - \\lambda \\begin{bmatrix}\n",
    "1&0&0\\\\\n",
    "0&1&0\\\\0&0&1\n",
    "\\end{bmatrix} = \\begin{bmatrix}\n",
    "1-\\lambda&1&3\\\\\n",
    "1&5 - \\lambda&1\\\\3&1&1 - \\lambda\n",
    "\\end{bmatrix}$$"
   ]
  },
  {
   "cell_type": "markdown",
   "metadata": {},
   "source": [
    "$$((1-\\lambda)*(5-\\lambda)*(1-\\lambda))+(3)+(3)-(3*(5-\\lambda)*3)-(1-\\lambda)-(1-\\lambda)$$"
   ]
  },
  {
   "cell_type": "markdown",
   "metadata": {},
   "source": [
    "$$\\left(-λ+5\\right)\\left(-λ+1\\right)^2+3+3-9\\left(-λ+5\\right)-2\\left(-λ+1\\right)$$"
   ]
  },
  {
   "cell_type": "markdown",
   "metadata": {},
   "source": [
    "$$(-\\lambda+5)(1-2\\lambda+\\lambda^2)+6-9(5-\\lambda)-2(1-\\lambda)$$"
   ]
  },
  {
   "cell_type": "markdown",
   "metadata": {},
   "source": [
    "$$-\\lambda+2\\lambda^2-\\lambda^3+5-10\\lambda+5\\lambda^2+6-45+9\\lambda-2+2\\lambda$$"
   ]
  },
  {
   "cell_type": "markdown",
   "metadata": {},
   "source": [
    "$$-\\lambda^3+7\\lambda^2-36$$"
   ]
  },
  {
   "cell_type": "markdown",
   "metadata": {},
   "source": [
    "$$-(\\lambda^3-7\\lambda^2+36)$$"
   ]
  },
  {
   "cell_type": "code",
   "execution_count": 38,
   "metadata": {},
   "outputs": [
    {
     "name": "stdout",
     "output_type": "stream",
     "text": [
      "3\n",
      "6\n"
     ]
    }
   ],
   "source": [
    "for i in range(1,37):\n",
    "    if 36%i==0 and i**3-7*i**2+36 == 0:\n",
    "        print(i)"
   ]
  },
  {
   "cell_type": "code",
   "execution_count": 41,
   "metadata": {},
   "outputs": [
    {
     "name": "stdout",
     "output_type": "stream",
     "text": [
      "-2\n"
     ]
    }
   ],
   "source": [
    "for j in range(1,37):\n",
    "    i=-j\n",
    "    if 36%i==0 and i**3-7*i**2+36 == 0:\n",
    "        print(i)"
   ]
  },
  {
   "cell_type": "markdown",
   "metadata": {},
   "source": [
    "|1|-7|0|36|\n",
    "| - |:-:|:-:|:-:|\n",
    "|1||||\n"
   ]
  },
  {
   "cell_type": "markdown",
   "metadata": {},
   "source": [
    "|1|-7|0|36|\n",
    "| - |:-:|:-:|:-:|\n",
    "|1|-9|18|0|\n"
   ]
  },
  {
   "cell_type": "markdown",
   "metadata": {},
   "source": [
    "$$\\lambda^2+-9\\lambda+18$$"
   ]
  },
  {
   "cell_type": "markdown",
   "metadata": {},
   "source": [
    " $$\\lambda_2=\\frac{-(-9)-\\sqrt{(-9)^2-4*18}}{2}$$"
   ]
  },
  {
   "cell_type": "markdown",
   "metadata": {},
   "source": [
    " $$\\lambda_2=\\frac{9-\\sqrt{81-72}}{2}$$"
   ]
  },
  {
   "cell_type": "markdown",
   "metadata": {},
   "source": [
    " $$\\lambda_2=\\frac{9-3}{2}$$"
   ]
  },
  {
   "cell_type": "markdown",
   "metadata": {},
   "source": [
    " $$\\lambda_2=3$$"
   ]
  },
  {
   "cell_type": "markdown",
   "metadata": {},
   "source": [
    " $$\\lambda_3=\\frac{9+3}{2}$$"
   ]
  },
  {
   "cell_type": "markdown",
   "metadata": {},
   "source": [
    " $$\\lambda_3=6$$"
   ]
  },
  {
   "cell_type": "markdown",
   "metadata": {},
   "source": [
    "$$\\begin{bmatrix}\n",
    "1&1&3\\\\\n",
    "1&5&1\\\\3&1&1\n",
    "\\end{bmatrix} +2 \\begin{bmatrix}\n",
    "1&0&0\\\\\n",
    "0&1&0\\\\0&0&1\n",
    "\\end{bmatrix} = \\begin{bmatrix}\n",
    "3&1&3\\\\\n",
    "1&7&1\\\\3&1&3\n",
    "\\end{bmatrix}$$"
   ]
  },
  {
   "cell_type": "markdown",
   "metadata": {},
   "source": [
    " $$R_2=R_2-\\frac{R_1}{3}$$\n",
    " $$R_3=R_1-R_1$$\n",
    " $$R_2=\\frac{3}{20}R_2$$"
   ]
  },
  {
   "cell_type": "markdown",
   "metadata": {},
   "source": [
    " $$\\begin{bmatrix}\n",
    "3&1&3\\\\\n",
    "0&1&0\\\\0&0&0\n",
    "\\end{bmatrix}$$"
   ]
  },
  {
   "cell_type": "markdown",
   "metadata": {},
   "source": [
    "$$R_1=R_1-R_2$$\n",
    "$$R_1=\\frac{R_1}{3}$$"
   ]
  },
  {
   "cell_type": "markdown",
   "metadata": {},
   "source": [
    " $$\\begin{bmatrix}\n",
    "1&0&1\\\\\n",
    "0&1&0\\\\0&0&0\n",
    "\\end{bmatrix}$$"
   ]
  },
  {
   "cell_type": "markdown",
   "metadata": {},
   "source": [
    " $$x=-z$$\n",
    " $$y=0$$"
   ]
  },
  {
   "cell_type": "markdown",
   "metadata": {},
   "source": [
    "$$\\begin{bmatrix}\n",
    "-1\\\\\n",
    "0\\\\1\n",
    "\\end{bmatrix}$$"
   ]
  },
  {
   "cell_type": "markdown",
   "metadata": {},
   "source": [
    "$$\\begin{bmatrix}\n",
    "1&1&3\\\\\n",
    "1&5&1\\\\3&1&1\n",
    "\\end{bmatrix} -3 \\begin{bmatrix}\n",
    "1&0&0\\\\\n",
    "0&1&0\\\\0&0&1\n",
    "\\end{bmatrix} = \\begin{bmatrix}\n",
    "-2&1&3\\\\\n",
    "1&2&1\\\\3&1&-2\n",
    "\\end{bmatrix}$$"
   ]
  },
  {
   "cell_type": "markdown",
   "metadata": {},
   "source": [
    "$$R_1\\leftrightarrow R_3$$"
   ]
  },
  {
   "cell_type": "markdown",
   "metadata": {},
   "source": [
    "$$\\begin{bmatrix}\n",
    "3&1&-2\\\\\n",
    "1&2&1\\\\-2&1&3\n",
    "\\end{bmatrix}$$"
   ]
  },
  {
   "cell_type": "markdown",
   "metadata": {},
   "source": [
    "$$R_2=R_2-\\frac{R_1}{3}$$\n",
    "$$R_2=\\frac{3}{5}R_2$$\n",
    "$$R_3=R_3+\\frac{2R_1}{3}$$\n",
    "$$R_3=\\frac{3}{2}R_3$$"
   ]
  },
  {
   "cell_type": "markdown",
   "metadata": {},
   "source": [
    "$$\\begin{bmatrix}\n",
    "3&1&-2\\\\\n",
    "0&1&1\\\\0&1&1\n",
    "\\end{bmatrix}$$"
   ]
  },
  {
   "cell_type": "markdown",
   "metadata": {},
   "source": [
    "$$R_3=R_3-R_2$$"
   ]
  },
  {
   "cell_type": "markdown",
   "metadata": {},
   "source": [
    "$$\\begin{bmatrix}\n",
    "3&1&-2\\\\\n",
    "0&1&1\\\\0&0&0\n",
    "\\end{bmatrix}$$"
   ]
  },
  {
   "cell_type": "markdown",
   "metadata": {},
   "source": [
    "$$R_1=R_1-R_2$$\n",
    "$$R_1=\\frac{1}{3}R_1$$"
   ]
  },
  {
   "cell_type": "markdown",
   "metadata": {},
   "source": [
    "$$\\begin{bmatrix}\n",
    "1&0&-1\\\\\n",
    "0&1&1\\\\0&0&0\n",
    "\\end{bmatrix}$$"
   ]
  },
  {
   "cell_type": "markdown",
   "metadata": {},
   "source": [
    "$$x=z$$\n",
    "$$y=-z$$"
   ]
  },
  {
   "cell_type": "markdown",
   "metadata": {},
   "source": [
    "$$\\begin{bmatrix}\n",
    "1\\\\\n",
    "-1\\\\1\n",
    "\\end{bmatrix}$$"
   ]
  },
  {
   "cell_type": "markdown",
   "metadata": {},
   "source": [
    "$$\\begin{bmatrix}\n",
    "1&1&3\\\\\n",
    "1&5&1\\\\3&1&1\n",
    "\\end{bmatrix} -6 \\begin{bmatrix}\n",
    "1&0&0\\\\\n",
    "0&1&0\\\\0&0&1\n",
    "\\end{bmatrix} = \\begin{bmatrix}\n",
    "-5&1&3\\\\\n",
    "1&-1&1\\\\3&1&-5\n",
    "\\end{bmatrix}$$"
   ]
  },
  {
   "cell_type": "markdown",
   "metadata": {},
   "source": [
    "$$R_1\\leftrightarrow R_2$$"
   ]
  },
  {
   "cell_type": "markdown",
   "metadata": {},
   "source": [
    "$$ \\begin{bmatrix}\n",
    "1&-1&1\\\\\n",
    "-5&1&3\\\\\n",
    "3&1&-5\n",
    "\\end{bmatrix}$$"
   ]
  },
  {
   "cell_type": "markdown",
   "metadata": {},
   "source": [
    "$$R_2=R_2+5R_1$$\n",
    "$$R_3=R_3-3R_1$$"
   ]
  },
  {
   "cell_type": "markdown",
   "metadata": {},
   "source": [
    "$$ \\begin{bmatrix}\n",
    "1&-1&1\\\\\n",
    "0&-4&8\\\\\n",
    "0&4&-8\n",
    "\\end{bmatrix}$$"
   ]
  },
  {
   "cell_type": "markdown",
   "metadata": {},
   "source": [
    "$$R_3=R_3+R_2$$\n",
    "$$R_2=\\frac{R_2}{4}$$"
   ]
  },
  {
   "cell_type": "markdown",
   "metadata": {},
   "source": [
    "$$ \\begin{bmatrix}\n",
    "1&-1&1\\\\\n",
    "0&-1&2\\\\\n",
    "0&0&0\n",
    "\\end{bmatrix}$$"
   ]
  },
  {
   "cell_type": "markdown",
   "metadata": {},
   "source": [
    "$$R_1=R_1-R_2$$\n"
   ]
  },
  {
   "cell_type": "markdown",
   "metadata": {},
   "source": [
    "$$ \\begin{bmatrix}\n",
    "1&0&-1\\\\\n",
    "0&-1&2\\\\\n",
    "0&0&0\n",
    "\\end{bmatrix}$$"
   ]
  },
  {
   "cell_type": "markdown",
   "metadata": {},
   "source": [
    "$$x=z$$\n",
    "$$y=2z$$"
   ]
  },
  {
   "cell_type": "markdown",
   "metadata": {},
   "source": [
    "$$\\begin{bmatrix}\n",
    "1\\\\\n",
    "2\\\\1\n",
    "\\end{bmatrix}$$"
   ]
  },
  {
   "cell_type": "markdown",
   "metadata": {},
   "source": [
    "#### с. "
   ]
  },
  {
   "cell_type": "markdown",
   "metadata": {},
   "source": [
    "$$\\begin{bmatrix}\n",
    "2&1&-1&0\\\\\n",
    "0&0&0&0\\\\\n",
    "2&0&-1&0\\\\\n",
    "0&1&0&0\n",
    "\\end{bmatrix} - \\lambda \\begin{bmatrix}\n",
    "1&0&0&0\\\\\n",
    "0&1&0&0\\\\0&0&1&0\\\\0&0&0&1\n",
    "\\end{bmatrix} = \\begin{bmatrix}\n",
    "2-\\lambda&1&-1&0\\\\\n",
    "0&-\\lambda&0&0\\\\\n",
    "2&0&-1-\\lambda&0\\\\\n",
    "0&1&0&-\\lambda\n",
    "\\end{bmatrix}$$"
   ]
  },
  {
   "cell_type": "markdown",
   "metadata": {},
   "source": [
    "$$1*(-1)^6*det\\begin{bmatrix}\n",
    "2-\\lambda&-1&0\\\\\n",
    "0&0&0\\\\\n",
    "2&-1-\\lambda&0\\\\\n",
    "\\end{bmatrix}-\\lambda*(-1)^8*det\\begin{bmatrix}\n",
    "2-\\lambda&1&-1\\\\\n",
    "0&-\\lambda&0\\\\\n",
    "2&0&-1-\\lambda\\\\\n",
    "\\end{bmatrix}$$"
   ]
  },
  {
   "cell_type": "markdown",
   "metadata": {},
   "source": [
    "$$det\\begin{bmatrix}\n",
    "2-\\lambda&-1&0\\\\\n",
    "0&0&0\\\\\n",
    "2&-1-\\lambda&0\\\\\n",
    "\\end{bmatrix}=0$$"
   ]
  },
  {
   "cell_type": "markdown",
   "metadata": {},
   "source": [
    "$$det\\begin{bmatrix}\n",
    "2-\\lambda&1&-1\\\\\n",
    "0&-\\lambda&0\\\\\n",
    "2&0&-1-\\lambda\\\\\n",
    "\\end{bmatrix} = ((2-\\lambda)(-\\lambda)(-1-\\lambda))-(2*(-\\lambda)*-1)$$"
   ]
  },
  {
   "cell_type": "markdown",
   "metadata": {},
   "source": [
    "$$(-2\\lambda+\\lambda^2)(-1-\\lambda))-2\\lambda$$"
   ]
  },
  {
   "cell_type": "markdown",
   "metadata": {},
   "source": [
    "$$2\\lambda-\\lambda^2 +2\\lambda^2-\\lambda^3-2\\lambda$$"
   ]
  },
  {
   "cell_type": "markdown",
   "metadata": {},
   "source": [
    "$$-\\lambda^3+\\lambda^2$$"
   ]
  },
  {
   "cell_type": "markdown",
   "metadata": {},
   "source": [
    "$$-\\lambda * (-\\lambda^3+\\lambda^2) = \\lambda^4-\\lambda^3$$"
   ]
  },
  {
   "cell_type": "markdown",
   "metadata": {},
   "source": [
    "$$\\lambda_1=0$$"
   ]
  },
  {
   "cell_type": "markdown",
   "metadata": {},
   "source": [
    "$$\\lambda^3*(\\lambda - 1)=0$$"
   ]
  },
  {
   "cell_type": "markdown",
   "metadata": {},
   "source": [
    "$$\\lambda_2=1$$"
   ]
  },
  {
   "cell_type": "markdown",
   "metadata": {},
   "source": [
    "Начинаю искать собственные вектора"
   ]
  },
  {
   "cell_type": "markdown",
   "metadata": {},
   "source": [
    "$$\\begin{bmatrix}\n",
    "2&1&-1&0\\\\\n",
    "0&0&0&0\\\\\n",
    "2&0&-1&0\\\\\n",
    "0&1&0&0\n",
    "\\end{bmatrix} -0* \\begin{bmatrix}\n",
    "1&0&0&0\\\\\n",
    "0&1&0&0\\\\0&0&1&0\\\\0&0&0&1\n",
    "\\end{bmatrix} = \\begin{bmatrix}\n",
    "x\\\\y\\\\z\\\\v\n",
    "\\end{bmatrix}$$"
   ]
  },
  {
   "cell_type": "markdown",
   "metadata": {},
   "source": [
    "$$\\begin{bmatrix}\n",
    "2&1&-1&0\\\\\n",
    "0&0&0&0\\\\\n",
    "2&0&-1&0\\\\\n",
    "0&1&0&0\n",
    "\\end{bmatrix} = \\begin{bmatrix}\n",
    "x\\\\y\\\\z\\\\v\n",
    "\\end{bmatrix}$$"
   ]
  },
  {
   "cell_type": "markdown",
   "metadata": {},
   "source": [
    "$$R_3=R_3-R_1$$"
   ]
  },
  {
   "cell_type": "markdown",
   "metadata": {},
   "source": [
    "$$\\begin{bmatrix}\n",
    "2&1&-1&0\\\\\n",
    "0&0&0&0\\\\\n",
    "0&-1&0&0\\\\\n",
    "0&1&0&0\n",
    "\\end{bmatrix}$$"
   ]
  },
  {
   "cell_type": "markdown",
   "metadata": {},
   "source": [
    "$$R_2\\leftrightarrow R_3$$"
   ]
  },
  {
   "cell_type": "markdown",
   "metadata": {},
   "source": [
    "$$\\begin{bmatrix}\n",
    "2&1&-1&0\\\\\n",
    "0&-1&0&0\\\\0&0&0&0\\\\\n",
    "0&1&0&0\n",
    "\\end{bmatrix}$$"
   ]
  },
  {
   "cell_type": "markdown",
   "metadata": {},
   "source": [
    "$$R_4=R_4+R_2$$"
   ]
  },
  {
   "cell_type": "markdown",
   "metadata": {},
   "source": [
    "$$\\begin{bmatrix}\n",
    "2&1&-1&0\\\\\n",
    "0&-1&0&0\\\\0&0&0&0\\\\\n",
    "0&0&0&0\n",
    "\\end{bmatrix}$$"
   ]
  },
  {
   "cell_type": "markdown",
   "metadata": {},
   "source": [
    "$$R_1=R_1+R_2$$\n",
    "$$R_1=\\frac{R_1}{2}$$"
   ]
  },
  {
   "cell_type": "markdown",
   "metadata": {},
   "source": [
    "$$\\begin{bmatrix}\n",
    "1&0&-\\frac{1}{2}&0\\\\\n",
    "0&-1&0&0\\\\0&0&0&0\\\\\n",
    "0&0&0&0\n",
    "\\end{bmatrix}$$"
   ]
  },
  {
   "cell_type": "markdown",
   "metadata": {},
   "source": [
    "$$\\begin{bmatrix}\n",
    "1&0&-\\frac{1}{2}&0\\\\\n",
    "0&-1&0&0\\\\0&0&0&0\\\\\n",
    "0&0&0&0\n",
    "\\end{bmatrix}*\\begin{bmatrix}\n",
    "x\\\\y\\\\z\\\\v\n",
    "\\end{bmatrix}=\\begin{bmatrix}\n",
    "0\\\\0\\\\0\\\\0\n",
    "\\end{bmatrix}$$"
   ]
  },
  {
   "cell_type": "markdown",
   "metadata": {},
   "source": [
    "$$x=\\frac{1}{2}z$$\n",
    "$$y=0$$"
   ]
  },
  {
   "cell_type": "markdown",
   "metadata": {},
   "source": [
    "$$v_1=\\begin{bmatrix}\n",
    "\\frac{1}{2}z\\\\0\\\\z\\\\0\n",
    "\\end{bmatrix}$$\n",
    "$$z=2$$\n",
    "$$v_1=\\begin{bmatrix}\n",
    "1\\\\0\\\\2\\\\0\n",
    "\\end{bmatrix}$$"
   ]
  },
  {
   "cell_type": "markdown",
   "metadata": {},
   "source": [
    "$$\\begin{bmatrix}\n",
    "2&1&-1&0\\\\\n",
    "0&0&0&0\\\\\n",
    "2&0&-1&0\\\\\n",
    "0&1&0&0\n",
    "\\end{bmatrix} -1* \\begin{bmatrix}\n",
    "1&0&0&0\\\\\n",
    "0&1&0&0\\\\0&0&1&0\\\\0&0&0&1\n",
    "\\end{bmatrix} = \\begin{bmatrix}\n",
    "x\\\\y\\\\z\\\\v\n",
    "\\end{bmatrix}$$"
   ]
  },
  {
   "cell_type": "markdown",
   "metadata": {},
   "source": [
    "$$\\begin{bmatrix}\n",
    "1&1&-1&0\\\\\n",
    "0&-1&0&0\\\\\n",
    "2&0&-2&0\\\\\n",
    "0&1&0&-1\n",
    "\\end{bmatrix}$$"
   ]
  },
  {
   "cell_type": "markdown",
   "metadata": {},
   "source": [
    "$$R_3=R_3-2R_1$$\n",
    "$$R_3=\\frac{R_3}{2}$$\n",
    "$$R_4=R_4+R_2$$\n",
    "$$R_4=-R_4$$"
   ]
  },
  {
   "cell_type": "markdown",
   "metadata": {},
   "source": [
    "$$\\begin{bmatrix}\n",
    "1&1&-1&0\\\\\n",
    "0&-1&0&0\\\\\n",
    "0&-1&0&0\\\\\n",
    "0&0&0&1\n",
    "\\end{bmatrix}$$"
   ]
  },
  {
   "cell_type": "markdown",
   "metadata": {},
   "source": [
    "$$R_3=R_3-R_2$$\n",
    "$$R_2=-R_2$$\n",
    "$$R_1=R_1-R_2$$"
   ]
  },
  {
   "cell_type": "markdown",
   "metadata": {},
   "source": [
    "$$\\begin{bmatrix}\n",
    "1&0&-1&0\\\\\n",
    "0&1&0&0\\\\\n",
    "0&0&0&0\\\\\n",
    "0&0&0&1\n",
    "\\end{bmatrix}$$"
   ]
  },
  {
   "cell_type": "markdown",
   "metadata": {},
   "source": [
    "$$\\begin{bmatrix}\n",
    "1&0&-1&0\\\\\n",
    "0&1&0&0\\\\\n",
    "0&0&0&0\\\\\n",
    "0&0&0&1\n",
    "\\end{bmatrix}*\\begin{bmatrix}\n",
    "x\\\\y\\\\z\\\\v\n",
    "\\end{bmatrix}=\\begin{bmatrix}\n",
    "0\\\\0\\\\0\\\\0\n",
    "\\end{bmatrix}$$"
   ]
  },
  {
   "cell_type": "markdown",
   "metadata": {},
   "source": [
    "$$x-z=0$$\n",
    "$$y=0$$\n",
    "$$v=0$$"
   ]
  },
  {
   "cell_type": "markdown",
   "metadata": {},
   "source": [
    "$$\\begin{bmatrix}\n",
    "z\\\\0\\\\z\\\\0\n",
    "\\end{bmatrix}$$"
   ]
  },
  {
   "cell_type": "markdown",
   "metadata": {},
   "source": [
    "$$z=1$$"
   ]
  },
  {
   "cell_type": "markdown",
   "metadata": {},
   "source": [
    "$$\\begin{bmatrix}\n",
    "1\\\\0\\\\1\\\\0\n",
    "\\end{bmatrix}$$"
   ]
  },
  {
   "cell_type": "markdown",
   "metadata": {},
   "source": [
    "#### d. "
   ]
  },
  {
   "cell_type": "markdown",
   "metadata": {},
   "source": [
    "$$ \\begin{bmatrix}\n",
    "4&6&0\\\\\n",
    "-3&-5&0\\\\\n",
    "3&-6&0\n",
    "\\end{bmatrix} - \\lambda \\begin{bmatrix}\n",
    "1&0&0\\\\\n",
    "0&1&0\\\\0&0&1\n",
    "\\end{bmatrix} = \\begin{bmatrix}\n",
    "4-\\lambda&6&0\\\\\n",
    "-3&-5-\\lambda&0\\\\\n",
    "3&-6&-\\lambda\n",
    "\\end{bmatrix}$$"
   ]
  },
  {
   "cell_type": "markdown",
   "metadata": {},
   "source": [
    "$$((4-\\lambda)*(-5-\\lambda)*(-\\lambda))-(18\\lambda)$$"
   ]
  },
  {
   "cell_type": "markdown",
   "metadata": {},
   "source": [
    "$$(-4\\lambda+\\lambda^2)(-5-\\lambda)-18\\lambda$$"
   ]
  },
  {
   "cell_type": "markdown",
   "metadata": {},
   "source": [
    "$$20\\lambda+4\\lambda^2-5\\lambda^2-\\lambda^3-18\\lambda$$"
   ]
  },
  {
   "cell_type": "markdown",
   "metadata": {},
   "source": [
    "$$-\\lambda^3-\\lambda^2+2\\lambda=0$$"
   ]
  },
  {
   "cell_type": "markdown",
   "metadata": {},
   "source": [
    "$$-\\lambda*(\\lambda^2+\\lambda-2)=0$$"
   ]
  },
  {
   "cell_type": "markdown",
   "metadata": {},
   "source": [
    "$$\\lambda_1=0$$"
   ]
  },
  {
   "cell_type": "markdown",
   "metadata": {},
   "source": [
    "$$\\lambda_1=\\frac{-1-\\sqrt{1-4*-2}}{2}$$"
   ]
  },
  {
   "cell_type": "markdown",
   "metadata": {},
   "source": [
    "$$\\lambda_1=\\frac{-1-3}{2}=-2$$"
   ]
  },
  {
   "cell_type": "markdown",
   "metadata": {},
   "source": [
    "$$\\lambda_2=\\frac{-1+3}{2}=1$$"
   ]
  },
  {
   "cell_type": "markdown",
   "metadata": {},
   "source": [
    "$$ \\begin{bmatrix}\n",
    "4&6&0\\\\\n",
    "-3&-5&0\\\\\n",
    "3&-6&0\n",
    "\\end{bmatrix} - 0 \\begin{bmatrix}\n",
    "1&0&0\\\\\n",
    "0&1&0\\\\0&0&1\n",
    "\\end{bmatrix} = \\begin{bmatrix}\n",
    "4&6&0\\\\\n",
    "-3&-5&0\\\\\n",
    "3&-6&0\n",
    "\\end{bmatrix}$$"
   ]
  },
  {
   "cell_type": "markdown",
   "metadata": {},
   "source": [
    "$$R_1\\leftrightarrow R_3$$\n",
    "$$R_1=\\frac{R_1}{3}$$"
   ]
  },
  {
   "cell_type": "markdown",
   "metadata": {},
   "source": [
    "$$\\begin{bmatrix}\n",
    "1&-2&0\\\\\n",
    "-3&-5&0\\\\\n",
    "4&6&0\n",
    "\\end{bmatrix}$$"
   ]
  },
  {
   "cell_type": "markdown",
   "metadata": {},
   "source": [
    "$$R_2=R_2+3R_1$$\n",
    "$$R_3=R_3-4R_1$$"
   ]
  },
  {
   "cell_type": "markdown",
   "metadata": {},
   "source": [
    "$$\\begin{bmatrix}\n",
    "1&-2&0\\\\\n",
    "0&-11&0\\\\\n",
    "0&14&0\n",
    "\\end{bmatrix}$$"
   ]
  },
  {
   "cell_type": "markdown",
   "metadata": {},
   "source": [
    "$$R_2=\\frac{R_2}{-11}$$\n",
    "$$R_3=\\frac{R_3}{14}$$\n",
    "$$R_1=R_1+2R_2$$\n",
    "$$R_3=R_3-R_2$$"
   ]
  },
  {
   "cell_type": "markdown",
   "metadata": {},
   "source": [
    "$$\\begin{bmatrix}\n",
    "1&0&0\\\\\n",
    "0&1&0\\\\\n",
    "0&0&0\n",
    "\\end{bmatrix}$$"
   ]
  },
  {
   "cell_type": "markdown",
   "metadata": {},
   "source": [
    "$$x=0$$\n",
    "$$y=0$$"
   ]
  },
  {
   "cell_type": "markdown",
   "metadata": {},
   "source": [
    "$$\\begin{bmatrix}\n",
    "0\\\\\n",
    "0\\\\\n",
    "1\n",
    "\\end{bmatrix}$$"
   ]
  },
  {
   "cell_type": "markdown",
   "metadata": {},
   "source": [
    "$$ \\begin{bmatrix}\n",
    "4&6&0\\\\\n",
    "-3&-5&0\\\\\n",
    "3&-6&0\n",
    "\\end{bmatrix} - 1 \\begin{bmatrix}\n",
    "1&0&0\\\\\n",
    "0&1&0\\\\0&0&1\n",
    "\\end{bmatrix} = \\begin{bmatrix}\n",
    "3&6&0\\\\\n",
    "-3&-6&0\\\\\n",
    "3&-6&-1\n",
    "\\end{bmatrix}$$"
   ]
  },
  {
   "cell_type": "markdown",
   "metadata": {},
   "source": [
    "$$R_1=\\frac{R_1}{3}$$\n",
    "$$R_2=\\frac{R_2}{-3}$$\n",
    "$$R_3=\\frac{R_3}{3}$$"
   ]
  },
  {
   "cell_type": "markdown",
   "metadata": {},
   "source": [
    "$$\\begin{bmatrix}\n",
    "1&2&0\\\\\n",
    "1&2&0\\\\\n",
    "1&-2&-\\frac{1}{3}\n",
    "\\end{bmatrix}$$"
   ]
  },
  {
   "cell_type": "markdown",
   "metadata": {},
   "source": [
    "$$R_1=R_1-R_2$$\n",
    "$$R_3=R_3-R_2$$\n",
    "$$R_3=-3R_3$$"
   ]
  },
  {
   "cell_type": "markdown",
   "metadata": {},
   "source": [
    "$$\\begin{bmatrix}\n",
    "0&0&0\\\\\n",
    "1&2&0\\\\\n",
    "0&12&1\n",
    "\\end{bmatrix}$$"
   ]
  },
  {
   "cell_type": "markdown",
   "metadata": {},
   "source": [
    "$$R_2=6R_2-R_3$$"
   ]
  },
  {
   "cell_type": "markdown",
   "metadata": {},
   "source": [
    "$$\\begin{bmatrix}\n",
    "0&0&0\\\\\n",
    "6&0&-1\\\\\n",
    "0&12&1\n",
    "\\end{bmatrix}$$"
   ]
  },
  {
   "cell_type": "markdown",
   "metadata": {},
   "source": [
    "$$12y+z=0$$\n",
    "$$6x-z=0$$\n",
    "$$z=-12y$$\n",
    "$$z=6x$$"
   ]
  },
  {
   "cell_type": "markdown",
   "metadata": {},
   "source": [
    "$$\\begin{bmatrix}\n",
    "6\\\\\n",
    "-12\\\\\n",
    "1\n",
    "\\end{bmatrix}$$"
   ]
  },
  {
   "cell_type": "markdown",
   "metadata": {},
   "source": [
    "$$ \\begin{bmatrix}\n",
    "4&6&0\\\\\n",
    "-3&-5&0\\\\\n",
    "3&-6&0\n",
    "\\end{bmatrix} +2 \\begin{bmatrix}\n",
    "1&0&0\\\\\n",
    "0&1&0\\\\0&0&1\n",
    "\\end{bmatrix} = \\begin{bmatrix}\n",
    "6&6&0\\\\\n",
    "-3&-3&0\\\\\n",
    "3&-6&2\n",
    "\\end{bmatrix}$$"
   ]
  },
  {
   "cell_type": "markdown",
   "metadata": {},
   "source": [
    "$$R_1=\\frac{R_1}{6}$$\n",
    "$$R_2=\\frac{R_2}{-3}$$\n",
    "$$R_2=R_2-R_1$$"
   ]
  },
  {
   "cell_type": "markdown",
   "metadata": {},
   "source": [
    "$$\\begin{bmatrix}\n",
    "1&1&0\\\\\n",
    "0&0&0\\\\\n",
    "3&-6&2\n",
    "\\end{bmatrix}$$"
   ]
  },
  {
   "cell_type": "markdown",
   "metadata": {},
   "source": [
    "$$R_3=R_3-3R_1$$\n",
    "$$R_3=-R_3$$"
   ]
  },
  {
   "cell_type": "markdown",
   "metadata": {},
   "source": [
    "$$\\begin{bmatrix}\n",
    "1&1&0\\\\\n",
    "0&0&0\\\\\n",
    "0&9&-2\n",
    "\\end{bmatrix}$$"
   ]
  },
  {
   "cell_type": "markdown",
   "metadata": {},
   "source": [
    "$$R_1=9R_1-R_3$$"
   ]
  },
  {
   "cell_type": "markdown",
   "metadata": {},
   "source": [
    "$$\\begin{bmatrix}\n",
    "9&0&2\\\\\n",
    "0&0&0\\\\\n",
    "0&9&-2\n",
    "\\end{bmatrix}$$"
   ]
  },
  {
   "cell_type": "markdown",
   "metadata": {},
   "source": [
    "$$9x+2z=0$$\n",
    "$$9y-2z=0$$\n",
    "$$y=\\frac{2}{9}y$$\n",
    "$$x=-\\frac{2}{9}$$"
   ]
  },
  {
   "cell_type": "markdown",
   "metadata": {},
   "source": [
    "$$\\begin{bmatrix}\n",
    "-2\\\\\n",
    "2\\\\\n",
    "9\n",
    "\\end{bmatrix}$$"
   ]
  },
  {
   "cell_type": "markdown",
   "metadata": {},
   "source": [
    "#### e. "
   ]
  },
  {
   "cell_type": "markdown",
   "metadata": {},
   "source": [
    "$$ \\begin{bmatrix}\n",
    "10&4&4\\\\\n",
    "-1&1&0\\\\\n",
    "-13&-6&-5\n",
    "\\end{bmatrix} - \\lambda \\begin{bmatrix}\n",
    "1&0&0\\\\\n",
    "0&1&0\\\\0&0&1\n",
    "\\end{bmatrix} = \\begin{bmatrix}\n",
    "10-\\lambda&4&4\\\\\n",
    "-1&1-\\lambda&0\\\\\n",
    "-13&-6&-5-\\lambda\n",
    "\\end{bmatrix}$$"
   ]
  },
  {
   "cell_type": "markdown",
   "metadata": {},
   "source": [
    "$$((10-\\lambda)(1-\\lambda)(-5-\\lambda))+(4*-1*-6)-(-13*(1-\\lambda)*4)-((-5-\\lambda)*-1*4)=-\\lambda^3+6\\lambda^2-11\\lambda+6=-(\\lambda^3-6\\lambda^2+11\\lambda-6)$$"
   ]
  },
  {
   "cell_type": "code",
   "execution_count": 74,
   "metadata": {},
   "outputs": [
    {
     "name": "stdout",
     "output_type": "stream",
     "text": [
      "for x=1, res=0\n",
      "for x=-1, res=-24\n",
      "for x=2, res=0\n",
      "for x=-2, res=-60\n",
      "for x=3, res=0\n",
      "for x=-3, res=-120\n",
      "for x=4, res=6\n",
      "for x=-4, res=-210\n",
      "for x=5, res=24\n",
      "for x=-5, res=-336\n",
      "for x=6, res=60\n",
      "for x=-6, res=-504\n"
     ]
    }
   ],
   "source": [
    "for i in range(1,7):\n",
    "    x=i\n",
    "    res = x**3-6*x**2+11*x-6\n",
    "    print(f'for x={x}, res={res}')\n",
    "    x=-i\n",
    "    res = x**3-6*x**2+11*x-6\n",
    "    print(f'for x={x}, res={res}')\n",
    "    "
   ]
  },
  {
   "cell_type": "markdown",
   "metadata": {},
   "source": [
    "$$\\lambda_1=1$$"
   ]
  },
  {
   "cell_type": "markdown",
   "metadata": {},
   "source": [
    "|1|-6|11|-6|\n",
    "| - |:-:|:-:|:-:|\n",
    "|1||||\n"
   ]
  },
  {
   "cell_type": "markdown",
   "metadata": {},
   "source": [
    "|1|-6|11|-6|\n",
    "| - |:-:|:-:|:-:|\n",
    "|1|-5|6|0|\n"
   ]
  },
  {
   "cell_type": "markdown",
   "metadata": {},
   "source": [
    "$$\\lambda^2-5\\lambda+6=0$$"
   ]
  },
  {
   "cell_type": "markdown",
   "metadata": {},
   "source": [
    "$$\\lambda_2=\\frac{5+\\sqrt{25-24}}{2}=3$$"
   ]
  },
  {
   "cell_type": "markdown",
   "metadata": {},
   "source": [
    "$$\\lambda_3=\\frac{5-\\sqrt{25-24}}{2}=2$$"
   ]
  },
  {
   "cell_type": "markdown",
   "metadata": {},
   "source": [
    "$$ \\begin{bmatrix}\n",
    "10&4&4\\\\\n",
    "-1&1&0\\\\\n",
    "-13&-6&-5\n",
    "\\end{bmatrix} - 1 \\begin{bmatrix}\n",
    "1&0&0\\\\\n",
    "0&1&0\\\\0&0&1\n",
    "\\end{bmatrix} = \\begin{bmatrix}\n",
    "9&4&4\\\\\n",
    "-1&0&0\\\\\n",
    "-13&-6&-6\n",
    "\\end{bmatrix}$$"
   ]
  },
  {
   "cell_type": "markdown",
   "metadata": {},
   "source": [
    "$$\\begin{bmatrix}\n",
    "9&4&4\\\\\n",
    "-1&0&0\\\\\n",
    "-13&-6&-6\n",
    "\\end{bmatrix}=\\begin{bmatrix}\n",
    "1&0&0\\\\\n",
    "0&1&1\\\\\n",
    "0&0&0\n",
    "\\end{bmatrix}$$"
   ]
  },
  {
   "cell_type": "markdown",
   "metadata": {},
   "source": [
    "$$y=-z$$\n",
    "$$x=0$$"
   ]
  },
  {
   "cell_type": "markdown",
   "metadata": {},
   "source": [
    "$$\\begin{bmatrix}\n",
    "0\\\\\n",
    "-1\\\\\n",
    "1\n",
    "\\end{bmatrix}$$"
   ]
  },
  {
   "cell_type": "markdown",
   "metadata": {},
   "source": [
    "$$ \\begin{bmatrix}\n",
    "10&4&4\\\\\n",
    "-1&1&0\\\\\n",
    "-13&-6&-5\n",
    "\\end{bmatrix} - 2 \\begin{bmatrix}\n",
    "1&0&0\\\\\n",
    "0&1&0\\\\0&0&1\n",
    "\\end{bmatrix} = \\begin{bmatrix}\n",
    "8&4&4\\\\\n",
    "-1&-1&0\\\\\n",
    "-13&-6&-7\n",
    "\\end{bmatrix}$$"
   ]
  },
  {
   "cell_type": "markdown",
   "metadata": {},
   "source": [
    "$$\\begin{bmatrix}\n",
    "2&1&1\\\\\n",
    "1&1&0\\\\\n",
    "0&7&-7\n",
    "\\end{bmatrix}$$"
   ]
  },
  {
   "cell_type": "markdown",
   "metadata": {},
   "source": [
    "$$\\begin{bmatrix}\n",
    "2&1&1\\\\\n",
    "1&1&0\\\\\n",
    "0&1&-1\n",
    "\\end{bmatrix}$$"
   ]
  },
  {
   "cell_type": "markdown",
   "metadata": {},
   "source": [
    "$$\\begin{bmatrix}\n",
    "2&2&0\\\\\n",
    "1&1&0\\\\\n",
    "0&1&-1\n",
    "\\end{bmatrix}$$"
   ]
  },
  {
   "cell_type": "markdown",
   "metadata": {},
   "source": [
    "$$\\begin{bmatrix}\n",
    "1&1&0\\\\\n",
    "0&0&0\\\\\n",
    "0&1&-1\n",
    "\\end{bmatrix}$$"
   ]
  },
  {
   "cell_type": "markdown",
   "metadata": {},
   "source": [
    "$$\\begin{bmatrix}\n",
    "1&0&1\\\\\n",
    "0&0&0\\\\\n",
    "0&1&-1\n",
    "\\end{bmatrix}$$"
   ]
  },
  {
   "cell_type": "markdown",
   "metadata": {},
   "source": [
    "$$x=-z$$\n",
    "$$y=z$$"
   ]
  },
  {
   "cell_type": "markdown",
   "metadata": {},
   "source": [
    "$$\\begin{bmatrix}\n",
    "-1\\\\\n",
    "1\\\\\n",
    "1\n",
    "\\end{bmatrix}$$"
   ]
  },
  {
   "cell_type": "markdown",
   "metadata": {},
   "source": [
    "$$ \\begin{bmatrix}\n",
    "10&4&4\\\\\n",
    "-1&1&0\\\\\n",
    "-13&-6&-5\n",
    "\\end{bmatrix} - 3 \\begin{bmatrix}\n",
    "1&0&0\\\\\n",
    "0&1&0\\\\0&0&1\n",
    "\\end{bmatrix} = \\begin{bmatrix}\n",
    "7&4&4\\\\\n",
    "-1&-2&0\\\\\n",
    "-13&-6&-8\n",
    "\\end{bmatrix}$$"
   ]
  },
  {
   "cell_type": "markdown",
   "metadata": {},
   "source": [
    "$$\\begin{bmatrix}\n",
    "1&2&0\\\\\n",
    "7&4&4\\\\\n",
    "-13&-6&-8\n",
    "\\end{bmatrix}$$"
   ]
  },
  {
   "cell_type": "markdown",
   "metadata": {},
   "source": [
    "$$\\begin{bmatrix}\n",
    "1&2&0\\\\\n",
    "0&10&4\\\\\n",
    "0&20&-8\n",
    "\\end{bmatrix}$$"
   ]
  },
  {
   "cell_type": "markdown",
   "metadata": {},
   "source": [
    "$$\\begin{bmatrix}\n",
    "1&2&0\\\\\n",
    "0&10&4\\\\\n",
    "0&0&-16\n",
    "\\end{bmatrix}$$"
   ]
  },
  {
   "cell_type": "markdown",
   "metadata": {},
   "source": [
    "$$\\begin{bmatrix}\n",
    "1&2&0\\\\\n",
    "0&6&0\\\\\n",
    "0&0&1\n",
    "\\end{bmatrix}$$"
   ]
  },
  {
   "cell_type": "markdown",
   "metadata": {},
   "source": [
    "$$\\begin{bmatrix}\n",
    "1&0&0\\\\\n",
    "0&1&0\\\\\n",
    "0&0&1\n",
    "\\end{bmatrix}$$"
   ]
  },
  {
   "cell_type": "markdown",
   "metadata": {},
   "source": [
    "$$x=0$$\n",
    "$$y=0$$\n",
    "$$z=0$$"
   ]
  },
  {
   "cell_type": "markdown",
   "metadata": {},
   "source": [
    "$$\\begin{bmatrix}\n",
    "0\\\\\n",
    "0\\\\\n",
    "0\n",
    "\\end{bmatrix}$$"
   ]
  },
  {
   "cell_type": "markdown",
   "metadata": {},
   "source": [
    "Но проверяя результат на https://www.symbolab.com/solver/factor-calculator/%5Cbegin%7Bpmatrix%7D1%262%260%5C%5C%207%264%264%5C%5C%20-13%26-6%26-8%5Cend%7Bpmatrix%7D я получил"
   ]
  },
  {
   "cell_type": "markdown",
   "metadata": {},
   "source": [
    "$$\\begin{bmatrix}\n",
    "-4\\\\\n",
    "2\\\\\n",
    "5\n",
    "\\end{bmatrix}$$"
   ]
  },
  {
   "cell_type": "code",
   "execution_count": null,
   "metadata": {},
   "outputs": [],
   "source": []
  }
 ],
 "metadata": {
  "kernelspec": {
   "display_name": "Python 3",
   "language": "python",
   "name": "python3"
  },
  "language_info": {
   "codemirror_mode": {
    "name": "ipython",
    "version": 3
   },
   "file_extension": ".py",
   "mimetype": "text/x-python",
   "name": "python",
   "nbconvert_exporter": "python",
   "pygments_lexer": "ipython3",
   "version": "3.6.8"
  }
 },
 "nbformat": 4,
 "nbformat_minor": 2
}
