{
 "cells": [
  {
   "cell_type": "markdown",
   "metadata": {},
   "source": [
    "### 1. 10 карточек с написанными на них буквами А, А, И, И, О, С, С, Ц, Ц, Я перемешали"
   ]
  },
  {
   "cell_type": "code",
   "execution_count": 15,
   "metadata": {},
   "outputs": [
    {
     "data": {
      "text/plain": [
       "['А', 'С', 'С', 'О', 'Ц', 'И', 'А', 'Ц', 'И', 'Я']"
      ]
     },
     "execution_count": 15,
     "metadata": {},
     "output_type": "execute_result"
    }
   ],
   "source": [
    "word = [x for x in 'АССОЦИАЦИЯ']\n",
    "set_of_letters = [x for x in 'АССОЦИАЦИЯ']\n",
    "\n",
    "word"
   ]
  },
  {
   "cell_type": "code",
   "execution_count": 16,
   "metadata": {},
   "outputs": [
    {
     "name": "stdout",
     "output_type": "stream",
     "text": [
      "P(А)=2/10\n",
      "P(С)=2/9\n",
      "P(С)=1/8\n",
      "P(О)=1/7\n",
      "P(Ц)=2/6\n",
      "P(И)=2/5\n",
      "P(А)=1/4\n",
      "P(Ц)=1/3\n",
      "P(И)=1/2\n",
      "P(Я)=1/1\n",
      "P(АССОЦИАЦИЯ)=0.00000440917107583774212412573711983299062922014854848384857177734375\n"
     ]
    }
   ],
   "source": [
    "from decimal import Decimal\n",
    "PWord = 1;\n",
    "for i in range(10):\n",
    "    print(f'P({word[i]})={set_of_letters.count(word[i])}/{len(set_of_letters)}')\n",
    "    PWord *= set_of_letters.count(word[i])/len(set_of_letters)\n",
    "    set_of_letters.remove(word[i])\n",
    "print(f'P(АССОЦИАЦИЯ)={Decimal(PWord)}')"
   ]
  },
  {
   "cell_type": "markdown",
   "metadata": {},
   "source": [
    "### 2. Какова вероятность того, что при подбрасывании 6 игральных костей хотя бы на двух костях выпадет одинаковое число очков."
   ]
  },
  {
   "cell_type": "markdown",
   "metadata": {},
   "source": [
    "Результат выпадения каждого кубика независимый. Соответственно вероятность выпадения любого числа равно $$\\frac 1 6$$\n",
    "Выпадение такого же значения на втором кубике $$\\frac 1 6$$\n",
    "Если бы у нас было всего 2 кубика - то вероятность бы была $$\\frac{1}{36}$$"
   ]
  },
  {
   "cell_type": "markdown",
   "metadata": {},
   "source": [
    "Попробую решить эту задачу с помощью формулы Бернулли\n",
    "$$P_n(k)$$\n",
    "$$p=\\frac{1}{6}, n=6, k=2$$"
   ]
  },
  {
   "cell_type": "markdown",
   "metadata": {},
   "source": [
    "$$C_n^k*p^k(1-p)^{n-k}$$"
   ]
  },
  {
   "cell_type": "markdown",
   "metadata": {},
   "source": [
    "$$C_6^2*\\frac{1}{6}^2(1-\\frac{1}{6})^{6-2}$$"
   ]
  },
  {
   "cell_type": "markdown",
   "metadata": {},
   "source": [
    "$$\\frac{6!}{2!(6-2)!}*\\frac{1}{6}^2*\\frac{5}{6}^{4}$$"
   ]
  },
  {
   "cell_type": "code",
   "execution_count": 19,
   "metadata": {},
   "outputs": [
    {
     "data": {
      "text/plain": [
       "0.20093878600823048"
      ]
     },
     "execution_count": 19,
     "metadata": {},
     "output_type": "execute_result"
    }
   ],
   "source": [
    "import math\n",
    "math.factorial(6)/(math.factorial(2)*math.factorial(4))*(1/6)**2*(5/6)**4"
   ]
  },
  {
   "cell_type": "markdown",
   "metadata": {},
   "source": [
    "### 3. В ящике две партии по 100 резисторов: в первой партии — 10 бракованных, во второй — 20 бракованных. Из ящика извлечен 1 резистор.\n",
    "#### Событие А = {извлеченный резистор — из первой партии}.\n",
    "#### Событие B = {извлеченный резистор — бракованный}.\n",
    "#### Зависимы ли события A и B? Ответ обосновать."
   ]
  },
  {
   "cell_type": "markdown",
   "metadata": {},
   "source": [
    "События зависимые, потому что нельзя сказать что, резистор из первой партии или из второй.\n",
    "$$P(А) = 100/200 = 0.5$$\n",
    "$$P(B) = 30/100 = 0.3$$"
   ]
  },
  {
   "cell_type": "markdown",
   "metadata": {},
   "source": [
    "### 4. В микрорайоне девять машин технической службы. Для бесперебойной работы необходимо, чтобы не меньше 8 машин были в исправном состоянии. Считая вероятность исправного состояния для всех машин одинаковой и равной 0,9, найти вероятность бесперебойной работы технической службы в микрорайоне."
   ]
  },
  {
   "cell_type": "markdown",
   "metadata": {},
   "source": [
    "Попробую решить эту задачу с помощью формулы Бернулли\n",
    "$$p=0.9, n=9, k=8$$"
   ]
  },
  {
   "cell_type": "markdown",
   "metadata": {},
   "source": [
    "$$C_9^8*0.9^8(1-0.9)^{9-8}$$"
   ]
  },
  {
   "cell_type": "markdown",
   "metadata": {},
   "source": [
    "$$\\frac{9!}{8!*(1)!}*0.9^8*(0.1)$$"
   ]
  },
  {
   "cell_type": "markdown",
   "metadata": {},
   "source": [
    "$$\\frac{8!*9}{8!}*0.9^8*(0.1)$$"
   ]
  },
  {
   "cell_type": "markdown",
   "metadata": {},
   "source": [
    "$$9*0.9^8*(0.1)$$"
   ]
  },
  {
   "cell_type": "markdown",
   "metadata": {},
   "source": [
    "$$0.9*0.9^8$$"
   ]
  },
  {
   "cell_type": "markdown",
   "metadata": {},
   "source": [
    "$$0.9^9$$"
   ]
  },
  {
   "cell_type": "code",
   "execution_count": 21,
   "metadata": {},
   "outputs": [
    {
     "data": {
      "text/plain": [
       "0.3874204890000001"
      ]
     },
     "execution_count": 21,
     "metadata": {},
     "output_type": "execute_result"
    }
   ],
   "source": [
    "0.9**9"
   ]
  },
  {
   "cell_type": "markdown",
   "metadata": {},
   "source": [
    "### 5. Имеется 10 винтовок, 4 из которых снабжены оптическим прицелом. Вероятность поражения мишени стрелком равна: 0,95 — при выстреле из винтовки с оптическим прицелом, 0,8 — при выстреле из винтовки без оптического прицела. Известно, что стрелок поразил мишень. Найдите вероятность того, что он стрелял из винтовки без оптического прицела."
   ]
  },
  {
   "cell_type": "markdown",
   "metadata": {},
   "source": [
    "Обозначу событие А - Стрелок поразил мишень. B1 - Стрелок выбрал мишень с оптическим прицелом. B2 - Стрелок выбрал мишень без оптического прицела."
   ]
  },
  {
   "cell_type": "markdown",
   "metadata": {},
   "source": [
    "$$P(B1) = 0.4$$$$P(B2) = 0.6$$$$P_{B1}(A) = 0.95$$$$P_{B2}(A) = 0.8$$"
   ]
  },
  {
   "cell_type": "markdown",
   "metadata": {},
   "source": [
    "Вероятность попадания из любой винтовки\n",
    "$$P(A) = P(B1)*P_{B1}(A)+P(B2)*P_{B2}(A)$$"
   ]
  },
  {
   "cell_type": "markdown",
   "metadata": {},
   "source": [
    "$$P(A) = 0.4*0.95+0.6*0.8$$"
   ]
  },
  {
   "cell_type": "code",
   "execution_count": 23,
   "metadata": {},
   "outputs": [
    {
     "data": {
      "text/plain": [
       "0.86"
      ]
     },
     "execution_count": 23,
     "metadata": {},
     "output_type": "execute_result"
    }
   ],
   "source": [
    "0.4*0.95+0.6*0.8"
   ]
  },
  {
   "cell_type": "markdown",
   "metadata": {},
   "source": [
    "Воспользуюсь формулой Байеса для вычисления вероятности события B2 $$P_A(B2)=\\frac{0.8*0.6}{0.86}$$"
   ]
  },
  {
   "cell_type": "code",
   "execution_count": 25,
   "metadata": {},
   "outputs": [
    {
     "data": {
      "text/plain": [
       "0.5581395348837209"
      ]
     },
     "execution_count": 25,
     "metadata": {},
     "output_type": "execute_result"
    }
   ],
   "source": [
    "0.8*0.6/0.86"
   ]
  },
  {
   "cell_type": "code",
   "execution_count": null,
   "metadata": {},
   "outputs": [],
   "source": []
  }
 ],
 "metadata": {
  "kernelspec": {
   "display_name": "Python 3",
   "language": "python",
   "name": "python3"
  },
  "language_info": {
   "codemirror_mode": {
    "name": "ipython",
    "version": 3
   },
   "file_extension": ".py",
   "mimetype": "text/x-python",
   "name": "python",
   "nbconvert_exporter": "python",
   "pygments_lexer": "ipython3",
   "version": "3.7.4"
  }
 },
 "nbformat": 4,
 "nbformat_minor": 2
}
