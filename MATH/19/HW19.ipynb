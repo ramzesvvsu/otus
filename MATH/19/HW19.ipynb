{
 "cells": [
  {
   "cell_type": "markdown",
   "metadata": {},
   "source": [
    "### 1. 10 карточек с написанными на них буквами А, А, И, И, О, С, С, Ц, Ц, Я перемешали"
   ]
  },
  {
   "cell_type": "code",
   "execution_count": 15,
   "metadata": {},
   "outputs": [
    {
     "data": {
      "text/plain": [
       "['А', 'С', 'С', 'О', 'Ц', 'И', 'А', 'Ц', 'И', 'Я']"
      ]
     },
     "execution_count": 15,
     "metadata": {},
     "output_type": "execute_result"
    }
   ],
   "source": [
    "word = [x for x in 'АССОЦИАЦИЯ']\n",
    "set_of_letters = [x for x in 'АССОЦИАЦИЯ']\n",
    "\n",
    "word"
   ]
  },
  {
   "cell_type": "code",
   "execution_count": 16,
   "metadata": {},
   "outputs": [
    {
     "name": "stdout",
     "output_type": "stream",
     "text": [
      "P(А)=2/10\n",
      "P(С)=2/9\n",
      "P(С)=1/8\n",
      "P(О)=1/7\n",
      "P(Ц)=2/6\n",
      "P(И)=2/5\n",
      "P(А)=1/4\n",
      "P(Ц)=1/3\n",
      "P(И)=1/2\n",
      "P(Я)=1/1\n",
      "P(АССОЦИАЦИЯ)=0.00000440917107583774212412573711983299062922014854848384857177734375\n"
     ]
    }
   ],
   "source": [
    "from decimal import Decimal\n",
    "PWord = 1;\n",
    "for i in range(10):\n",
    "    print(f'P({word[i]})={set_of_letters.count(word[i])}/{len(set_of_letters)}')\n",
    "    PWord *= set_of_letters.count(word[i])/len(set_of_letters)\n",
    "    set_of_letters.remove(word[i])\n",
    "print(f'P(АССОЦИАЦИЯ)={Decimal(PWord)}')"
   ]
  },
  {
   "cell_type": "markdown",
   "metadata": {},
   "source": [
    "### 2. Какова вероятность того, что при подбрасывании 6 игральных костей хотя бы на двух костях выпадет одинаковое число очков."
   ]
  },
  {
   "cell_type": "markdown",
   "metadata": {},
   "source": [
    "Решаю данную задачу с помощью вычисления обратной задачи когда выпадают 6 разных чисел на кубиках\n",
    "$$P = 1-(1*\\frac{5}{6}*\\frac{4}{6}*\\frac{3}{6}*\\frac{2}{6}*\\frac{1}{6})$$\n",
    "$$P = 1-(\\frac{6!}{6^6})$$\n",
    "$$P = 1-(\\frac{5!}{6^5})$$"
   ]
  },
  {
   "cell_type": "code",
   "execution_count": 26,
   "metadata": {},
   "outputs": [
    {
     "data": {
      "text/plain": [
       "0.9845679012345679"
      ]
     },
     "execution_count": 26,
     "metadata": {},
     "output_type": "execute_result"
    }
   ],
   "source": [
    "import math\n",
    "1-math.factorial(5)/6**5"
   ]
  },
  {
   "cell_type": "markdown",
   "metadata": {},
   "source": [
    "### 3. В ящике две партии по 100 резисторов: в первой партии — 10 бракованных, во второй — 20 бракованных. Из ящика извлечен 1 резистор.\n",
    "#### Событие А = {извлеченный резистор — из первой партии}.\n",
    "#### Событие B = {извлеченный резистор — бракованный}.\n",
    "#### Зависимы ли события A и B? Ответ обосновать."
   ]
  },
  {
   "cell_type": "markdown",
   "metadata": {},
   "source": [
    "События зависимые, потому что нельзя сказать что, резистор из первой партии или из второй.\n",
    "$$P(А) = 100/200 = 0.5$$\n",
    "$$P(B) = 30/200 = 0.15$$"
   ]
  },
  {
   "cell_type": "markdown",
   "metadata": {},
   "source": [
    "Делаю программную проверку"
   ]
  },
  {
   "cell_type": "markdown",
   "metadata": {},
   "source": [
    "A - 1 партия бракованный\n",
    "B - 1 партия нормальный\n",
    "С - 2 партия бракованный\n",
    "D - 2 партия нормальный"
   ]
  },
  {
   "cell_type": "code",
   "execution_count": 39,
   "metadata": {},
   "outputs": [],
   "source": [
    "from numpy.random import shuffle, randint\n",
    "test_list = ['A']*10\n",
    "test_list.extend(['B']*90)\n",
    "test_list.extend(['C']*20)\n",
    "test_list.extend(['D']*80)\n",
    "shuffle(test_list)"
   ]
  },
  {
   "cell_type": "code",
   "execution_count": 40,
   "metadata": {},
   "outputs": [],
   "source": [
    "count = 10000000\n",
    "countSA = 0\n",
    "countSB = 0\n",
    "for i in range(count):\n",
    "    rand = randint(0, len(test_list)-1)\n",
    "    if test_list[rand] in ['A', 'B']:\n",
    "        countSA += 1\n",
    "    if test_list[rand] in ['A', 'C']:\n",
    "        countSB += 1"
   ]
  },
  {
   "cell_type": "code",
   "execution_count": 41,
   "metadata": {},
   "outputs": [
    {
     "name": "stdout",
     "output_type": "stream",
     "text": [
      "P(A)=0.4975011\n",
      "P(B)=0.1507086\n"
     ]
    }
   ],
   "source": [
    "print(f'P(A)={countSA/count}')\n",
    "print(f'P(B)={countSB/count}')"
   ]
  },
  {
   "cell_type": "markdown",
   "metadata": {},
   "source": [
    "### 4. В микрорайоне девять машин технической службы. Для бесперебойной работы необходимо, чтобы не меньше 8 машин были в исправном состоянии. Считая вероятность исправного состояния для всех машин одинаковой и равной 0,9, найти вероятность бесперебойной работы технической службы в микрорайоне."
   ]
  },
  {
   "cell_type": "markdown",
   "metadata": {},
   "source": [
    "Попробую решить эту задачу с помощью формулы Бернулли\n",
    "$$p=0.9, n=9, k=8$$"
   ]
  },
  {
   "cell_type": "markdown",
   "metadata": {},
   "source": [
    "$$C_9^8*0.9^8(1-0.9)^{9-8}$$"
   ]
  },
  {
   "cell_type": "markdown",
   "metadata": {},
   "source": [
    "$$\\frac{9!}{8!*(1)!}*0.9^8*(0.1)$$"
   ]
  },
  {
   "cell_type": "markdown",
   "metadata": {},
   "source": [
    "$$\\frac{8!*9}{8!}*0.9^8*(0.1)$$"
   ]
  },
  {
   "cell_type": "markdown",
   "metadata": {},
   "source": [
    "$$9*0.9^8*(0.1)$$"
   ]
  },
  {
   "cell_type": "markdown",
   "metadata": {},
   "source": [
    "$$0.9*0.9^8$$"
   ]
  },
  {
   "cell_type": "markdown",
   "metadata": {},
   "source": [
    "$$0.9^9$$"
   ]
  },
  {
   "cell_type": "code",
   "execution_count": 21,
   "metadata": {},
   "outputs": [
    {
     "data": {
      "text/plain": [
       "0.3874204890000001"
      ]
     },
     "execution_count": 21,
     "metadata": {},
     "output_type": "execute_result"
    }
   ],
   "source": [
    "0.9**9"
   ]
  },
  {
   "cell_type": "markdown",
   "metadata": {},
   "source": [
    "$$C_9^9*0.9^9(1-0.9)^{9-9}$$"
   ]
  },
  {
   "cell_type": "markdown",
   "metadata": {},
   "source": [
    "$$\\frac{9!}{9!*(0)!}*0.9^9*1$$"
   ]
  },
  {
   "cell_type": "markdown",
   "metadata": {},
   "source": [
    "$$0.9^9$$"
   ]
  },
  {
   "cell_type": "markdown",
   "metadata": {},
   "source": [
    "Вероятность что парк будет работать\n",
    "$$0.9^9+0.9^9$$"
   ]
  },
  {
   "cell_type": "code",
   "execution_count": 73,
   "metadata": {},
   "outputs": [
    {
     "data": {
      "text/plain": [
       "0.7748409780000002"
      ]
     },
     "execution_count": 73,
     "metadata": {},
     "output_type": "execute_result"
    }
   ],
   "source": [
    "0.9**9+0.9**9"
   ]
  },
  {
   "cell_type": "code",
   "execution_count": 74,
   "metadata": {},
   "outputs": [],
   "source": [
    "count = 10000000\n",
    "p=0.9\n",
    "qty_car = 9\n",
    "min_qty_car = 8\n",
    "p_plus = 0\n",
    "work_car = 0\n",
    "import random\n",
    "for _ in range(count):\n",
    "    work_car = 0\n",
    "    for _ in range(qty_car): \n",
    "        work_car += random.choices([1, 0], weights=[9, 1])[0]\n",
    "    if work_car >= min_qty_car:\n",
    "         p_plus += 1"
   ]
  },
  {
   "cell_type": "code",
   "execution_count": 76,
   "metadata": {},
   "outputs": [
    {
     "name": "stdout",
     "output_type": "stream",
     "text": [
      "P = 0.7750341\n"
     ]
    }
   ],
   "source": [
    "print(f'P = {p_plus/count}')"
   ]
  },
  {
   "cell_type": "markdown",
   "metadata": {},
   "source": [
    "### 5. Имеется 10 винтовок, 4 из которых снабжены оптическим прицелом. Вероятность поражения мишени стрелком равна: 0,95 — при выстреле из винтовки с оптическим прицелом, 0,8 — при выстреле из винтовки без оптического прицела. Известно, что стрелок поразил мишень. Найдите вероятность того, что он стрелял из винтовки без оптического прицела."
   ]
  },
  {
   "cell_type": "markdown",
   "metadata": {},
   "source": [
    "Обозначу событие А - Стрелок поразил мишень. B1 - Стрелок выбрал мишень с оптическим прицелом. B2 - Стрелок выбрал мишень без оптического прицела."
   ]
  },
  {
   "cell_type": "markdown",
   "metadata": {},
   "source": [
    "$$P(B1) = 0.4$$$$P(B2) = 0.6$$$$P_{B1}(A) = 0.95$$$$P_{B2}(A) = 0.8$$"
   ]
  },
  {
   "cell_type": "markdown",
   "metadata": {},
   "source": [
    "Вероятность попадания из любой винтовки\n",
    "$$P(A) = P(B1)*P_{B1}(A)+P(B2)*P_{B2}(A)$$"
   ]
  },
  {
   "cell_type": "markdown",
   "metadata": {},
   "source": [
    "$$P(A) = 0.4*0.95+0.6*0.8$$"
   ]
  },
  {
   "cell_type": "code",
   "execution_count": 23,
   "metadata": {},
   "outputs": [
    {
     "data": {
      "text/plain": [
       "0.86"
      ]
     },
     "execution_count": 23,
     "metadata": {},
     "output_type": "execute_result"
    }
   ],
   "source": [
    "0.4*0.95+0.6*0.8"
   ]
  },
  {
   "cell_type": "markdown",
   "metadata": {},
   "source": [
    "Воспользуюсь формулой Байеса для вычисления вероятности события B2 $$P_A(B2)=\\frac{0.8*0.6}{0.86}$$"
   ]
  },
  {
   "cell_type": "code",
   "execution_count": 25,
   "metadata": {},
   "outputs": [
    {
     "data": {
      "text/plain": [
       "0.5581395348837209"
      ]
     },
     "execution_count": 25,
     "metadata": {},
     "output_type": "execute_result"
    }
   ],
   "source": [
    "0.8*0.6/0.86"
   ]
  },
  {
   "cell_type": "code",
   "execution_count": null,
   "metadata": {},
   "outputs": [],
   "source": []
  }
 ],
 "metadata": {
  "kernelspec": {
   "display_name": "Python 3",
   "language": "python",
   "name": "python3"
  },
  "language_info": {
   "codemirror_mode": {
    "name": "ipython",
    "version": 3
   },
   "file_extension": ".py",
   "mimetype": "text/x-python",
   "name": "python",
   "nbconvert_exporter": "python",
   "pygments_lexer": "ipython3",
   "version": "3.7.4"
  }
 },
 "nbformat": 4,
 "nbformat_minor": 2
}
